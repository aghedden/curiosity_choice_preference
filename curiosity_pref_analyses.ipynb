{
 "cells": [
  {
   "cell_type": "markdown",
   "id": "7e44ea26-5810-4eca-9739-231125755daa",
   "metadata": {},
   "source": [
    "# Curiosity Incidental Preference Analyses"
   ]
  },
  {
   "cell_type": "markdown",
   "id": "9c223c85-d8ca-455b-9881-b82da5be312b",
   "metadata": {},
   "source": [
    "### Summary of Main Findings:\n"
   ]
  },
  {
   "cell_type": "markdown",
   "id": "f63cea06-886e-4c1a-a0f6-e3e4537b4548",
   "metadata": {},
   "source": [
    "## Set-Up"
   ]
  },
  {
   "cell_type": "code",
   "execution_count": null,
   "id": "9bca41e8-dfec-4ffc-861e-e2674b3fdb2e",
   "metadata": {},
   "outputs": [],
   "source": [
    "# set working directory\n",
    "\n",
    "# load in required packages"
   ]
  },
  {
   "cell_type": "markdown",
   "id": "f1d17456-fc68-4224-87ff-e67880278e59",
   "metadata": {},
   "source": [
    "### Load in required data"
   ]
  },
  {
   "cell_type": "code",
   "execution_count": null,
   "id": "27084849-1697-49da-9fe9-1e125bd8e569",
   "metadata": {},
   "outputs": [],
   "source": []
  },
  {
   "cell_type": "markdown",
   "id": "5c7d3c93-e658-4c0c-b6d4-024de9382097",
   "metadata": {},
   "source": [
    "### Create dictionaries"
   ]
  },
  {
   "cell_type": "code",
   "execution_count": null,
   "id": "48294791-8508-4c5d-bf34-6c937e445873",
   "metadata": {},
   "outputs": [],
   "source": []
  },
  {
   "cell_type": "markdown",
   "id": "548d2415-123b-4760-8811-c7480cfa079e",
   "metadata": {},
   "source": [
    "## Data cleaning and wrangling"
   ]
  },
  {
   "cell_type": "code",
   "execution_count": null,
   "id": "17fb3f38-be3d-42a0-971c-902f7517fcac",
   "metadata": {},
   "outputs": [],
   "source": []
  },
  {
   "cell_type": "markdown",
   "id": "7af930a8-d305-4838-8fef-110e1c780fb3",
   "metadata": {},
   "source": [
    "## Main Analyses"
   ]
  },
  {
   "attachments": {},
   "cell_type": "markdown",
   "id": "8359a65b-9a28-4c63-a472-346445d3e078",
   "metadata": {},
   "source": [
    "### Curiosity and Memory\n",
    "Main Model: *Mixed-effects logistic regression* with outcome variable of **image recognition/trivia recall accuracy**, predictor variables **curiosity** [high, low, no (in recall)] and **judgement accuracy**, and random intercepts for subject. \n",
    "\n",
    "Variables:\n",
    "- trivia_recall: accurate recall of trivia question answers learned in Part 1\n",
    "- image_recognition: accurate OLD/NEW answer for images seen in low-, high-, and no-curiosity conditions\n",
    "- curiosity: \n",
    "- jud_accuracy: binary variable describing whether the participant's judgement of pointy or rounded during initial encoding of the incidental images in Part 1 was \"correct\" (based on human and computer ratings). We assume that if participants are more accurate during encoding, it should predict better memory or interact with memory as an indicator of attentional state during encoding\n"
   ]
  },
  {
   "cell_type": "code",
   "execution_count": null,
   "id": "5f5bbe19-b2f2-44e1-a58e-b6340e0b3d71",
   "metadata": {},
   "outputs": [],
   "source": []
  },
  {
   "cell_type": "code",
   "execution_count": null,
   "id": "64fb849f-7d77-4998-ade5-a2e89245430d",
   "metadata": {},
   "outputs": [],
   "source": []
  },
  {
   "cell_type": "code",
   "execution_count": null,
   "id": "2a9f762a-ec6c-4047-8cce-39ddf1f80f09",
   "metadata": {},
   "outputs": [],
   "source": []
  }
 ],
 "metadata": {
  "kernelspec": {
   "display_name": "Python 3 (ipykernel)",
   "language": "python",
   "name": "python3"
  },
  "language_info": {
   "codemirror_mode": {
    "name": "ipython",
    "version": 3
   },
   "file_extension": ".py",
   "mimetype": "text/x-python",
   "name": "python",
   "nbconvert_exporter": "python",
   "pygments_lexer": "ipython3",
   "version": "3.12.4"
  }
 },
 "nbformat": 4,
 "nbformat_minor": 5
}
