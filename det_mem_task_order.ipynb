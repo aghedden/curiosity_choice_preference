{
 "cells": [
  {
   "cell_type": "code",
   "execution_count": 2,
   "metadata": {},
   "outputs": [],
   "source": [
    "# set-up \n",
    "import random"
   ]
  },
  {
   "cell_type": "code",
   "execution_count": 6,
   "metadata": {},
   "outputs": [
    {
     "name": "stdout",
     "output_type": "stream",
     "text": [
      "Recog First: ['TST006', 'TST005', 'TST010', 'TST001', 'TST004']\n",
      "Recog Second: ['TST008', 'TST007', 'TST002', 'TST003', 'TST009']\n"
     ]
    }
   ],
   "source": [
    "# TST subject IDs\n",
    "def generate_subject_ids(prefix=\"TST\", start=1, end=10):\n",
    "    return [f\"{prefix}{i:03d}\" for i in range(start, end + 1)]\n",
    "\n",
    "def shuffle_and_split(subject_ids):\n",
    "    random.shuffle(subject_ids)\n",
    "    mid_point = len(subject_ids) // 2\n",
    "    recog_first = subject_ids[:mid_point]\n",
    "    recog_second = subject_ids[mid_point:]\n",
    "    return recog_first, recog_second\n",
    "\n",
    "# Generate subject IDs\n",
    "subject_ids = generate_subject_ids()\n",
    "\n",
    "# Shuffle and split\n",
    "tst_recog_first, tst_recog_second = shuffle_and_split(subject_ids)\n",
    "\n",
    "# Print results\n",
    "print(\"Recog First:\", tst_recog_first)\n",
    "print(\"Recog Second:\", tst_recog_second)"
   ]
  },
  {
   "cell_type": "code",
   "execution_count": 7,
   "metadata": {},
   "outputs": [
    {
     "name": "stdout",
     "output_type": "stream",
     "text": [
      "Recog First: ['PIL001', 'PIL014', 'PIL003', 'PIL019', 'PIL017', 'PIL007', 'PIL011', 'PIL004', 'PIL016', 'PIL008']\n",
      "Recog Second: ['PIL015', 'PIL005', 'PIL012', 'PIL009', 'PIL006', 'PIL018', 'PIL013', 'PIL002', 'PIL010', 'PIL020']\n"
     ]
    }
   ],
   "source": [
    "# PIL subject IDs\n",
    "def generate_subject_ids(prefix=\"PIL\", start=1, end=20):\n",
    "    return [f\"{prefix}{i:03d}\" for i in range(start, end + 1)]\n",
    "\n",
    "def shuffle_and_split(subject_ids):\n",
    "    random.shuffle(subject_ids)\n",
    "    mid_point = len(subject_ids) // 2\n",
    "    recog_first = subject_ids[:mid_point]\n",
    "    recog_second = subject_ids[mid_point:]\n",
    "    return recog_first, recog_second\n",
    "\n",
    "# Generate subject IDs\n",
    "subject_ids = generate_subject_ids()\n",
    "\n",
    "# Shuffle and split\n",
    "pil_recog_first, pil_recog_second = shuffle_and_split(subject_ids)\n",
    "\n",
    "# Print results\n",
    "print(\"Recog First:\", pil_recog_first)\n",
    "print(\"Recog Second:\", pil_recog_second)"
   ]
  },
  {
   "cell_type": "code",
   "execution_count": 3,
   "metadata": {},
   "outputs": [
    {
     "name": "stdout",
     "output_type": "stream",
     "text": [
      "Recog First: ['PIL127', 'PIL103', 'PIL129', 'PIL136', 'PIL137', 'PIL142', 'PIL130', 'PIL146', 'PIL150', 'PIL143', 'PIL149', 'PIL101', 'PIL139', 'PIL112', 'PIL141', 'PIL102', 'PIL138', 'PIL124', 'PIL113', 'PIL107', 'PIL121', 'PIL108', 'PIL145', 'PIL120', 'PIL119']\n",
      "Recog Second: ['PIL133', 'PIL116', 'PIL106', 'PIL147', 'PIL105', 'PIL144', 'PIL123', 'PIL109', 'PIL135', 'PIL104', 'PIL125', 'PIL122', 'PIL140', 'PIL132', 'PIL126', 'PIL118', 'PIL110', 'PIL114', 'PIL111', 'PIL115', 'PIL117', 'PIL148', 'PIL131', 'PIL128', 'PIL134']\n"
     ]
    }
   ],
   "source": [
    "# PNT subject IDs\n",
    "def generate_subject_ids(prefix=\"PNT\", start=1, end=200):\n",
    "    return [f\"{prefix}{i:03d}\" for i in range(start, end + 1)]\n",
    "\n",
    "def shuffle_and_split(subject_ids):\n",
    "    random.shuffle(subject_ids)\n",
    "    mid_point = len(subject_ids) // 2\n",
    "    recog_first = subject_ids[:mid_point]\n",
    "    recog_second = subject_ids[mid_point:]\n",
    "    return recog_first, recog_second\n",
    "\n",
    "# Generate subject IDs\n",
    "subject_ids = generate_subject_ids()\n",
    "\n",
    "# Shuffle and split\n",
    "pnt_recog_first, pnt_recog_second = shuffle_and_split(subject_ids)\n",
    "\n",
    "# Print results\n",
    "print(\"Recog First:\", recog_first)\n",
    "print(\"Recog Second:\", recog_second)"
   ]
  },
  {
   "cell_type": "code",
   "execution_count": 11,
   "metadata": {},
   "outputs": [
    {
     "name": "stdout",
     "output_type": "stream",
     "text": [
      "all_recog_first = ['TST006', 'TST005', 'TST010', 'TST001', 'TST004', 'PIL001', 'PIL014', 'PIL003', 'PIL019', 'PIL017', 'PIL007', 'PIL011', 'PIL004', 'PIL016', 'PIL008']\n",
      "all_recog_second = ['TST008', 'TST007', 'TST002', 'TST003', 'TST009', 'PIL015', 'PIL005', 'PIL012', 'PIL009', 'PIL006', 'PIL018', 'PIL013', 'PIL002', 'PIL010', 'PIL020']\n"
     ]
    }
   ],
   "source": [
    "# combine into all sub_ids to have recog first\n",
    "all_recog_first = tst_recog_first + pil_recog_first\n",
    "all_recog_second = tst_recog_second + pil_recog_second\n",
    "\n",
    "# Print results\n",
    "print(\"all_recog_first =\", all_recog_first)\n",
    "print(\"all_recog_second =\", all_recog_second)\n"
   ]
  },
  {
   "cell_type": "markdown",
   "metadata": {},
   "source": [
    "# Generate pilot order"
   ]
  },
  {
   "cell_type": "code",
   "execution_count": 2,
   "metadata": {},
   "outputs": [
    {
     "name": "stdout",
     "output_type": "stream",
     "text": [
      "Condition Assignment:\n",
      "['Choice', 'Trivia Recall', 'Object Recognition']: ['PIL133', 'PIL116', 'PIL106', 'PIL147', 'PIL105', 'PIL144', 'PIL123', 'PIL109', 'PIL135', 'PIL104', 'PIL125', 'PIL122', 'PIL140']\n",
      "['Choice', 'Object Recognition', 'Trivia Recall']: ['PIL127', 'PIL103', 'PIL129', 'PIL136', 'PIL137', 'PIL142', 'PIL130', 'PIL146', 'PIL150', 'PIL143', 'PIL149', 'PIL101', 'PIL139']\n",
      "['Trivia Recall', 'Object Recognition', 'Choice']: ['PIL132', 'PIL126', 'PIL118', 'PIL110', 'PIL114', 'PIL111', 'PIL115', 'PIL117', 'PIL148', 'PIL131', 'PIL128', 'PIL134']\n",
      "['Object Recognition', 'Trivia Recall', 'Choice']: ['PIL112', 'PIL141', 'PIL102', 'PIL138', 'PIL124', 'PIL113', 'PIL107', 'PIL121', 'PIL108', 'PIL145', 'PIL120', 'PIL119']\n",
      "\n",
      "Recog First: ['PIL127', 'PIL103', 'PIL129', 'PIL136', 'PIL137', 'PIL142', 'PIL130', 'PIL146', 'PIL150', 'PIL143', 'PIL149', 'PIL101', 'PIL139', 'PIL112', 'PIL141', 'PIL102', 'PIL138', 'PIL124', 'PIL113', 'PIL107', 'PIL121', 'PIL108', 'PIL145', 'PIL120', 'PIL119']\n",
      "Recog Second: ['PIL133', 'PIL116', 'PIL106', 'PIL147', 'PIL105', 'PIL144', 'PIL123', 'PIL109', 'PIL135', 'PIL104', 'PIL125', 'PIL122', 'PIL140', 'PIL132', 'PIL126', 'PIL118', 'PIL110', 'PIL114', 'PIL111', 'PIL115', 'PIL117', 'PIL148', 'PIL131', 'PIL128', 'PIL134']\n"
     ]
    }
   ],
   "source": [
    "import random\n",
    "\n",
    "# Generate PIL subject IDs\n",
    "def generate_subject_ids(prefix=\"PIL\", start=101, end=150):\n",
    "    return [f\"{prefix}{i:03d}\" for i in range(start, end + 1)]\n",
    "\n",
    "# Shuffle and assign to conditions\n",
    "def assign_to_conditions(subject_ids):\n",
    "    # Shuffle subject IDs\n",
    "    random.shuffle(subject_ids)\n",
    "    \n",
    "    # Define the four conditions\n",
    "    conditions = [\n",
    "        [\"Choice\", \"Trivia Recall\", \"Object Recognition\"],\n",
    "        [\"Choice\", \"Object Recognition\", \"Trivia Recall\"],\n",
    "        [\"Trivia Recall\", \"Object Recognition\", \"Choice\"],\n",
    "        [\"Object Recognition\", \"Trivia Recall\", \"Choice\"]\n",
    "    ]\n",
    "    \n",
    "    # Distribute subjects evenly across the four conditions\n",
    "    assignment = {str(condition): [] for condition in conditions}\n",
    "    for i, subject in enumerate(subject_ids):\n",
    "        condition = conditions[i % len(conditions)]\n",
    "        assignment[str(condition)].append(subject)\n",
    "    \n",
    "    return assignment\n",
    "\n",
    "# Split into Recog First and Recog Second for each condition\n",
    "def split_recog_order(assignment):\n",
    "    recog_first = []\n",
    "    recog_second = []\n",
    "    \n",
    "    for condition_str, subjects in assignment.items():\n",
    "        # Convert condition string back to list for index checking\n",
    "        condition = eval(condition_str)\n",
    "        \n",
    "        # Get the indexes\n",
    "        choice_index = condition.index(\"Choice\")\n",
    "        recall_index = condition.index(\"Trivia Recall\")\n",
    "        \n",
    "        # Apply the logic:\n",
    "        # If Choice is first:\n",
    "        if choice_index == 0:\n",
    "            if recall_index == 1:\n",
    "                recog_second.extend(subjects)  # Recall first, Recog second\n",
    "            elif recall_index == 2:\n",
    "                recog_first.extend(subjects)   # Recall second, Recog first\n",
    "        \n",
    "        # If Choice is third:\n",
    "        elif choice_index == 2:\n",
    "            if recall_index == 0:\n",
    "                recog_second.extend(subjects)  # Recall first, Recog second\n",
    "            elif recall_index == 1:\n",
    "                recog_first.extend(subjects)   # Recall second, Recog first\n",
    "    \n",
    "    return recog_first, recog_second\n",
    "\n",
    "# Generate subject IDs\n",
    "subject_ids = generate_subject_ids(start=101, end=150)\n",
    "\n",
    "# Assign to conditions\n",
    "condition_assignment = assign_to_conditions(subject_ids)\n",
    "\n",
    "# Split into Recog First and Recog Second\n",
    "recog_first, recog_second = split_recog_order(condition_assignment)\n",
    "\n",
    "# Print results\n",
    "print(\"Condition Assignment:\")\n",
    "for condition, subjects in condition_assignment.items():\n",
    "    print(f\"{condition}: {subjects}\")\n",
    "\n",
    "print(\"\\nRecog First:\", recog_first)\n",
    "print(\"Recog Second:\", recog_second)\n"
   ]
  },
  {
   "cell_type": "markdown",
   "metadata": {},
   "source": [
    "# Generate participant order"
   ]
  },
  {
   "cell_type": "code",
   "execution_count": 7,
   "metadata": {},
   "outputs": [
    {
     "name": "stdout",
     "output_type": "stream",
     "text": [
      "Condition Assignment:\n",
      "['Choice', 'Trivia Recall', 'Object Recognition']: ['PNT099', 'PNT031', 'PNT016', 'PNT035', 'PNT092', 'PNT018', 'PNT046', 'PNT015', 'PNT057', 'PNT033', 'PNT074', 'PNT084', 'PNT095', 'PNT048', 'PNT006', 'PNT043', 'PNT063', 'PNT001', 'PNT022', 'PNT096', 'PNT053', 'PNT021', 'PNT030', 'PNT025', 'PNT085']\n",
      "['Choice', 'Object Recognition', 'Trivia Recall']: ['PNT055', 'PNT058', 'PNT082', 'PNT040', 'PNT064', 'PNT088', 'PNT017', 'PNT076', 'PNT065', 'PNT038', 'PNT071', 'PNT097', 'PNT023', 'PNT042', 'PNT068', 'PNT034', 'PNT045', 'PNT054', 'PNT061', 'PNT070', 'PNT051', 'PNT052', 'PNT059', 'PNT049', 'PNT013']\n",
      "['Trivia Recall', 'Object Recognition', 'Choice']: ['PNT020', 'PNT010', 'PNT009', 'PNT078', 'PNT036', 'PNT028', 'PNT044', 'PNT056', 'PNT008', 'PNT079', 'PNT027', 'PNT066', 'PNT100', 'PNT007', 'PNT086', 'PNT047', 'PNT073', 'PNT050', 'PNT037', 'PNT062', 'PNT067', 'PNT026', 'PNT024', 'PNT029', 'PNT094']\n",
      "['Object Recognition', 'Trivia Recall', 'Choice']: ['PNT091', 'PNT081', 'PNT093', 'PNT041', 'PNT083', 'PNT032', 'PNT002', 'PNT087', 'PNT077', 'PNT011', 'PNT019', 'PNT004', 'PNT098', 'PNT080', 'PNT089', 'PNT060', 'PNT075', 'PNT090', 'PNT072', 'PNT014', 'PNT012', 'PNT005', 'PNT039', 'PNT003', 'PNT069']\n",
      "\n",
      "Recog First: ['PNT055', 'PNT058', 'PNT082', 'PNT040', 'PNT064', 'PNT088', 'PNT017', 'PNT076', 'PNT065', 'PNT038', 'PNT071', 'PNT097', 'PNT023', 'PNT042', 'PNT068', 'PNT034', 'PNT045', 'PNT054', 'PNT061', 'PNT070', 'PNT051', 'PNT052', 'PNT059', 'PNT049', 'PNT013', 'PNT091', 'PNT081', 'PNT093', 'PNT041', 'PNT083', 'PNT032', 'PNT002', 'PNT087', 'PNT077', 'PNT011', 'PNT019', 'PNT004', 'PNT098', 'PNT080', 'PNT089', 'PNT060', 'PNT075', 'PNT090', 'PNT072', 'PNT014', 'PNT012', 'PNT005', 'PNT039', 'PNT003', 'PNT069']\n",
      "Recog Second: ['PNT099', 'PNT031', 'PNT016', 'PNT035', 'PNT092', 'PNT018', 'PNT046', 'PNT015', 'PNT057', 'PNT033', 'PNT074', 'PNT084', 'PNT095', 'PNT048', 'PNT006', 'PNT043', 'PNT063', 'PNT001', 'PNT022', 'PNT096', 'PNT053', 'PNT021', 'PNT030', 'PNT025', 'PNT085', 'PNT020', 'PNT010', 'PNT009', 'PNT078', 'PNT036', 'PNT028', 'PNT044', 'PNT056', 'PNT008', 'PNT079', 'PNT027', 'PNT066', 'PNT100', 'PNT007', 'PNT086', 'PNT047', 'PNT073', 'PNT050', 'PNT037', 'PNT062', 'PNT067', 'PNT026', 'PNT024', 'PNT029', 'PNT094']\n"
     ]
    }
   ],
   "source": [
    "import random\n",
    "\n",
    "# Generate PIL subject IDs\n",
    "def generate_subject_ids(prefix=\"PNT\", start=1, end=100):\n",
    "    return [f\"{prefix}{i:03d}\" for i in range(start, end + 1)]\n",
    "\n",
    "# Shuffle and assign to conditions\n",
    "def assign_to_conditions(subject_ids):\n",
    "    # Shuffle subject IDs\n",
    "    random.shuffle(subject_ids)\n",
    "    \n",
    "    # Define the four conditions\n",
    "    conditions = [\n",
    "        [\"Choice\", \"Trivia Recall\", \"Object Recognition\"],\n",
    "        [\"Choice\", \"Object Recognition\", \"Trivia Recall\"],\n",
    "        [\"Trivia Recall\", \"Object Recognition\", \"Choice\"],\n",
    "        [\"Object Recognition\", \"Trivia Recall\", \"Choice\"]\n",
    "    ]\n",
    "    \n",
    "    # Distribute subjects evenly across the four conditions\n",
    "    assignment = {str(condition): [] for condition in conditions}\n",
    "    for i, subject in enumerate(subject_ids):\n",
    "        condition = conditions[i % len(conditions)]\n",
    "        assignment[str(condition)].append(subject)\n",
    "    \n",
    "    return assignment\n",
    "\n",
    "# Split into Recog First and Recog Second for each condition\n",
    "def split_recog_order(assignment):\n",
    "    recog_first = []\n",
    "    recog_second = []\n",
    "    \n",
    "    for condition_str, subjects in assignment.items():\n",
    "        # Convert condition string back to list for index checking\n",
    "        condition = eval(condition_str)\n",
    "        \n",
    "        # Get the indexes\n",
    "        choice_index = condition.index(\"Choice\")\n",
    "        recall_index = condition.index(\"Trivia Recall\")\n",
    "        \n",
    "        # Apply the logic:\n",
    "        # If Choice is first:\n",
    "        if choice_index == 0:\n",
    "            if recall_index == 1:\n",
    "                recog_second.extend(subjects)  # Recall first, Recog second\n",
    "            elif recall_index == 2:\n",
    "                recog_first.extend(subjects)   # Recall second, Recog first\n",
    "        \n",
    "        # If Choice is third:\n",
    "        elif choice_index == 2:\n",
    "            if recall_index == 0:\n",
    "                recog_second.extend(subjects)  # Recall first, Recog second\n",
    "            elif recall_index == 1:\n",
    "                recog_first.extend(subjects)   # Recall second, Recog first\n",
    "    \n",
    "    return recog_first, recog_second\n",
    "\n",
    "# Generate subject IDs\n",
    "subject_ids = generate_subject_ids(start=1, end=100)\n",
    "\n",
    "# Assign to conditions\n",
    "condition_assignment = assign_to_conditions(subject_ids)\n",
    "\n",
    "# Split into Recog First and Recog Second\n",
    "recog_first, recog_second = split_recog_order(condition_assignment)\n",
    "\n",
    "# Print results\n",
    "print(\"Condition Assignment:\")\n",
    "for condition, subjects in condition_assignment.items():\n",
    "    print(f\"{condition}: {subjects}\")\n",
    "\n",
    "print(\"\\nRecog First:\", recog_first)\n",
    "print(\"Recog Second:\", recog_second)"
   ]
  },
  {
   "cell_type": "code",
   "execution_count": 1,
   "metadata": {},
   "outputs": [
    {
     "name": "stdout",
     "output_type": "stream",
     "text": [
      "Condition Assignment:\n",
      "['Choice', 'Trivia Recall', 'Object Recognition']: ['PNT140', 'PNT143', 'PNT131', 'PNT136', 'PNT129']\n",
      "['Choice', 'Object Recognition', 'Trivia Recall']: ['PNT134', 'PNT141', 'PNT138', 'PNT135', 'PNT142']\n",
      "['Trivia Recall', 'Object Recognition', 'Choice']: ['PNT130', 'PNT147', 'PNT148', 'PNT133', 'PNT144']\n",
      "['Object Recognition', 'Trivia Recall', 'Choice']: ['PNT137', 'PNT146', 'PNT139', 'PNT145', 'PNT132']\n",
      "\n",
      "Recog First: ['PNT134', 'PNT141', 'PNT138', 'PNT135', 'PNT142', 'PNT137', 'PNT146', 'PNT139', 'PNT145', 'PNT132']\n",
      "Recog Second: ['PNT140', 'PNT143', 'PNT131', 'PNT136', 'PNT129', 'PNT130', 'PNT147', 'PNT148', 'PNT133', 'PNT144']\n"
     ]
    }
   ],
   "source": [
    "# generate additional participant ones\n",
    "\n",
    "import random\n",
    "\n",
    "# Generate PIL subject IDs\n",
    "def generate_subject_ids(prefix=\"PNT\", start=129, end=148):\n",
    "    return [f\"{prefix}{i:03d}\" for i in range(start, end + 1)]\n",
    "\n",
    "# Shuffle and assign to conditions\n",
    "def assign_to_conditions(subject_ids):\n",
    "    # Shuffle subject IDs\n",
    "    random.shuffle(subject_ids)\n",
    "    \n",
    "    # Define the four conditions\n",
    "    conditions = [\n",
    "        [\"Choice\", \"Trivia Recall\", \"Object Recognition\"],\n",
    "        [\"Choice\", \"Object Recognition\", \"Trivia Recall\"],\n",
    "        [\"Trivia Recall\", \"Object Recognition\", \"Choice\"],\n",
    "        [\"Object Recognition\", \"Trivia Recall\", \"Choice\"]\n",
    "    ]\n",
    "    \n",
    "    # Distribute subjects evenly across the four conditions\n",
    "    assignment = {str(condition): [] for condition in conditions}\n",
    "    for i, subject in enumerate(subject_ids):\n",
    "        condition = conditions[i % len(conditions)]\n",
    "        assignment[str(condition)].append(subject)\n",
    "    \n",
    "    return assignment\n",
    "\n",
    "# Split into Recog First and Recog Second for each condition\n",
    "def split_recog_order(assignment):\n",
    "    recog_first = []\n",
    "    recog_second = []\n",
    "    \n",
    "    for condition_str, subjects in assignment.items():\n",
    "        # Convert condition string back to list for index checking\n",
    "        condition = eval(condition_str)\n",
    "        \n",
    "        # Get the indexes\n",
    "        choice_index = condition.index(\"Choice\")\n",
    "        recall_index = condition.index(\"Trivia Recall\")\n",
    "        \n",
    "        # Apply the logic:\n",
    "        # If Choice is first:\n",
    "        if choice_index == 0:\n",
    "            if recall_index == 1:\n",
    "                recog_second.extend(subjects)  # Recall first, Recog second\n",
    "            elif recall_index == 2:\n",
    "                recog_first.extend(subjects)   # Recall second, Recog first\n",
    "        \n",
    "        # If Choice is third:\n",
    "        elif choice_index == 2:\n",
    "            if recall_index == 0:\n",
    "                recog_second.extend(subjects)  # Recall first, Recog second\n",
    "            elif recall_index == 1:\n",
    "                recog_first.extend(subjects)   # Recall second, Recog first\n",
    "    \n",
    "    return recog_first, recog_second\n",
    "\n",
    "# Generate subject IDs\n",
    "subject_ids = generate_subject_ids(start=129, end=148)\n",
    "\n",
    "# Assign to conditions\n",
    "condition_assignment = assign_to_conditions(subject_ids)\n",
    "\n",
    "# Split into Recog First and Recog Second\n",
    "recog_first, recog_second = split_recog_order(condition_assignment)\n",
    "\n",
    "# Print results\n",
    "print(\"Condition Assignment:\")\n",
    "for condition, subjects in condition_assignment.items():\n",
    "    print(f\"{condition}: {subjects}\")\n",
    "\n",
    "print(\"\\nRecog First:\", recog_first)\n",
    "print(\"Recog Second:\", recog_second)"
   ]
  },
  {
   "cell_type": "code",
   "execution_count": null,
   "metadata": {},
   "outputs": [],
   "source": []
  }
 ],
 "metadata": {
  "kernelspec": {
   "display_name": "Python 3",
   "language": "python",
   "name": "python3"
  },
  "language_info": {
   "codemirror_mode": {
    "name": "ipython",
    "version": 3
   },
   "file_extension": ".py",
   "mimetype": "text/x-python",
   "name": "python",
   "nbconvert_exporter": "python",
   "pygments_lexer": "ipython3",
   "version": "3.8.8"
  }
 },
 "nbformat": 4,
 "nbformat_minor": 4
}
